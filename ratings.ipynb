{
 "cells": [
  {
   "cell_type": "code",
   "execution_count": 5,
   "metadata": {},
   "outputs": [],
   "source": [
    "from pyspark.sql import SparkSession\n",
    "\n",
    "# Create a Spark session\n",
    "spark = SparkSession.builder \\\n",
    "    .appName(\"Book Genome Project\") \\\n",
    "    .getOrCreate()\n"
   ]
  },
  {
   "cell_type": "code",
   "execution_count": 11,
   "metadata": {},
   "outputs": [
    {
     "name": "stdout",
     "output_type": "stream",
     "text": [
      "root\n",
      " |-- item_id: long (nullable = true)\n",
      " |-- rating: long (nullable = true)\n",
      " |-- user_id: long (nullable = true)\n",
      "\n",
      "+--------+------+-------+\n",
      "|item_id |rating|user_id|\n",
      "+--------+------+-------+\n",
      "|41335427|5     |0      |\n",
      "|41335427|3     |1      |\n",
      "|41335427|5     |2      |\n",
      "|41335427|5     |3      |\n",
      "|41335427|5     |4      |\n",
      "|41335427|4     |5      |\n",
      "|41335427|5     |6      |\n",
      "|41335427|5     |7      |\n",
      "|41335427|5     |8      |\n",
      "|41335427|5     |9      |\n",
      "|41335427|5     |10     |\n",
      "|41335427|5     |11     |\n",
      "|41335427|5     |12     |\n",
      "|41335427|5     |13     |\n",
      "|41335427|5     |14     |\n",
      "|41335427|5     |15     |\n",
      "|41335427|4     |16     |\n",
      "|41335427|3     |17     |\n",
      "|41335427|5     |18     |\n",
      "|41335427|4     |19     |\n",
      "+--------+------+-------+\n",
      "only showing top 20 rows\n",
      "\n"
     ]
    }
   ],
   "source": [
    "ratings_df = spark.read.json(\"book-genome\\\\book_dataset\\\\raw\\\\ratings.json\")\n",
    "ratings_df.printSchema()\n",
    "ratings_df.limit(100).show(truncate=False)\n",
    "\n",
    "\n"
   ]
  },
  {
   "cell_type": "code",
   "execution_count": 8,
   "metadata": {},
   "outputs": [
    {
     "name": "stdout",
     "output_type": "stream",
     "text": [
      "+------------------+----------+----------+-------------+\n",
      "|        avg_rating|min_rating|max_rating|total_ratings|\n",
      "+------------------+----------+----------+-------------+\n",
      "|3.9557961952049583|         1|         5|      5152656|\n",
      "+------------------+----------+----------+-------------+\n",
      "\n"
     ]
    }
   ],
   "source": [
    "# We get the average, min, max, count of ratings overall:\n",
    "from pyspark.sql.functions import avg, min, max, count\n",
    "\n",
    "ratings_df.agg(\n",
    "    avg(\"rating\").alias(\"avg_rating\"),\n",
    "    min(\"rating\").alias(\"min_rating\"),\n",
    "    max(\"rating\").alias(\"max_rating\"),\n",
    "    count(\"*\").alias(\"total_ratings\")\n",
    ").show()\n"
   ]
  },
  {
   "cell_type": "code",
   "execution_count": 12,
   "metadata": {},
   "outputs": [
    {
     "name": "stdout",
     "output_type": "stream",
     "text": [
      "+------+-------+\n",
      "|rating|  count|\n",
      "+------+-------+\n",
      "|     1| 156250|\n",
      "|     2| 359785|\n",
      "|     3| 974773|\n",
      "|     4|1726522|\n",
      "|     5|1935326|\n",
      "+------+-------+\n",
      "\n"
     ]
    }
   ],
   "source": [
    "# Next we do a rating distribution to See how many users gave each rating.\n",
    "ratings_df.groupBy(\"rating\").count().orderBy(\"rating\").show()\n"
   ]
  },
  {
   "cell_type": "code",
   "execution_count": 13,
   "metadata": {},
   "outputs": [
    {
     "data": {
      "image/png": "[encoded data removed]",
      "text/plain": [
       "<Figure size 640x480 with 1 Axes>"
      ]
     },
     "metadata": {},
     "output_type": "display_data"
    }
   ],
   "source": [
    "import matplotlib.pyplot as plt\n",
    "\n",
    "rating_dist = ratings_df.groupBy(\"rating\").count().toPandas()\n",
    "\n",
    "plt.bar(rating_dist[\"rating\"], rating_dist[\"count\"], color=\"skyblue\")\n",
    "plt.xlabel(\"Rating\")\n",
    "plt.ylabel(\"Count\")\n",
    "plt.title(\"Distribution of Ratings\")\n",
    "plt.xticks(range(1, 6))\n",
    "plt.show()\n"
   ]
  },
  {
   "cell_type": "code",
   "execution_count": 15,
   "metadata": {},
   "outputs": [
    {
     "name": "stdout",
     "output_type": "stream",
     "text": [
      "+--------+------------------+------------+\n",
      "| item_id|        avg_rating|rating_count|\n",
      "+--------+------------------+------------+\n",
      "|26518929| 4.826568265682657|         271|\n",
      "|52922245| 4.818604651162791|         215|\n",
      "|49704739| 4.801546391752577|         388|\n",
      "|41343043| 4.788571428571428|         175|\n",
      "| 2962492| 4.786963434022257|         629|\n",
      "|28323940|4.7801608579088475|         746|\n",
      "|26419682|  4.77027027027027|         296|\n",
      "|47472732|              4.77|         300|\n",
      "|51859542|           4.76875|         160|\n",
      "|16482835| 4.767676767676767|        1386|\n",
      "|49728679| 4.755274261603375|         237|\n",
      "|19123949| 4.755208333333333|         192|\n",
      "|48123755| 4.752631578947368|         190|\n",
      "|26654514| 4.752577319587629|         194|\n",
      "|15064476| 4.751633986928105|         306|\n",
      "|51168550|          4.746875|         320|\n",
      "|51281303| 4.741496598639456|         294|\n",
      "|49570675|4.7407407407407405|         243|\n",
      "|49638190| 4.740498442367601|        3210|\n",
      "|41452434| 4.739010989010989|         364|\n",
      "|25040772| 4.735930735930736|         693|\n",
      "|47254110| 4.734939759036145|         166|\n",
      "|43618137| 4.726950354609929|         282|\n",
      "|45037804| 4.723958333333333|         192|\n",
      "|52837767|  4.72289156626506|         166|\n",
      "|50840610| 4.722513089005235|         191|\n",
      "|10953171| 4.719047619047619|         210|\n",
      "|46177490| 4.716436637390213|         797|\n",
      "|25126749| 4.716058394160584|        6850|\n",
      "|54097801| 4.713636363636364|         220|\n",
      "|42750152| 4.713483146067416|         178|\n",
      "|41927811| 4.711442786069652|         402|\n",
      "|42940027| 4.710045662100456|         438|\n",
      "|18252889| 4.705722070844686|         367|\n",
      "| 2402163|4.7055565481507955|        5597|\n",
      "| 6571827| 4.698550724637681|         345|\n",
      "|44464324| 4.697080291970803|         274|\n",
      "|44600531| 4.694444444444445|         180|\n",
      "|42090179|  4.69321922317314|        3038|\n",
      "|16022532| 4.689473684210526|         380|\n",
      "| 1712283| 4.687224669603524|         227|\n",
      "|42805837| 4.685534591194968|         159|\n",
      "|  640276|  4.68542199488491|         391|\n",
      "|51871992| 4.682403433476395|         233|\n",
      "|43903656| 4.681818181818182|         220|\n",
      "|23748241|   4.6784140969163|         227|\n",
      "|41452481| 4.677824267782427|         239|\n",
      "|22007627| 4.677345537757437|         437|\n",
      "| 2963218| 4.674474474474475|        6660|\n",
      "|42408772| 4.670588235294118|         255|\n",
      "+--------+------------------+------------+\n",
      "only showing top 50 rows\n",
      "\n"
     ]
    }
   ],
   "source": [
    "#Now we gwt get average rating and number of ratings per item_id (book)\n",
    "book_stats = ratings_df.groupBy(\"item_id\").agg(\n",
    "    avg(\"rating\").alias(\"avg_rating\"),\n",
    "    count(\"rating\").alias(\"rating_count\")\n",
    ")\n",
    "book_stats.orderBy(\"avg_rating\", ascending=False).show(50)\n"
   ]
  },
  {
   "cell_type": "code",
   "execution_count": null,
   "metadata": {},
   "outputs": [
    {
     "name": "stdout",
     "output_type": "stream",
     "text": [
      "root\n",
      " |-- authors: string (nullable = true)\n",
      " |-- description: string (nullable = true)\n",
      " |-- img: string (nullable = true)\n",
      " |-- item_id: long (nullable = true)\n",
      " |-- lang: string (nullable = true)\n",
      " |-- title: string (nullable = true)\n",
      " |-- url: string (nullable = true)\n",
      " |-- year: long (nullable = true)\n",
      "\n",
      "root\n",
      " |-- item_id: long (nullable = true)\n",
      " |-- avg_rating: double (nullable = true)\n",
      " |-- rating_count: long (nullable = false)\n",
      "\n",
      "+----------------------------------------------------+------------------+------------+\n",
      "|title                                               |avg_rating        |rating_count|\n",
      "+----------------------------------------------------+------------------+------------+\n",
      "|Lovely Trigger (Tristan & Danika, #3)               |4.826568265682657 |271         |\n",
      "|The Gravity of Us (Elements, #4)                    |4.818604651162791 |215         |\n",
      "|March: Book Three (March, #3)                       |4.801546391752577 |388         |\n",
      "|Long Way Down (Calloway Sisters, #4; Addicted, #3.2)|4.788571428571428 |175         |\n",
      "|Harry Potter Boxset (Harry Potter, #1-7)            |4.786963434022257 |629         |\n",
      "|Just Mercy: A Story of Justice and Redemption       |4.7801608579088475|746         |\n",
      "|More Than Forever (More Than, #4)                   |4.77027027027027  |296         |\n",
      "|Wildfire (Hidden Legacy, #3)                        |4.77              |300         |\n",
      "|Grip (Grip, #1)                                     |4.76875           |160         |\n",
      "|Words of Radiance (The Stormlight Archive, #2)      |4.767676767676767 |1386        |\n",
      "+----------------------------------------------------+------------------+------------+\n",
      "only showing top 10 rows\n",
      "\n"
     ]
    }
   ],
   "source": [
    "# We then join this with book metadata to see book titles instead of just IDs\n",
    "# First we Load metadata .\n",
    "metadata_df = spark.read.json(\"book-genome/book_dataset/raw/metadata.json\")\n",
    "\n",
    "# Check schemas\n",
    "metadata_df.printSchema()\n",
    "book_stats.printSchema()\n",
    "\n",
    "# Ensure item_id exists in both before joining\n",
    "joined_df = book_stats.join(metadata_df, on=\"item_id\", how=\"inner\")\n",
    "\n",
    "# Select desired columns and show sorted results\n",
    "joined_df.select(\"title\", \"avg_rating\", \"rating_count\") \\\n",
    "    .orderBy(\"avg_rating\", ascending=False) \\\n",
    "    .show(10, truncate=False)\n"
   ]
  },
  {
   "cell_type": "code",
   "execution_count": 19,
   "metadata": {},
   "outputs": [
    {
     "name": "stdout",
     "output_type": "stream",
     "text": [
      "+--------+------------------+------------+\n",
      "| item_id|        avg_rating|rating_count|\n",
      "+--------+------------------+------------+\n",
      "|16827462| 4.401268538382614|       21442|\n",
      "| 2792775| 4.414875365829045|       19818|\n",
      "|13306276|  3.84711450729927|       17536|\n",
      "|13155899| 4.153990439886247|       16527|\n",
      "|41107568|3.6560544591899884|       14543|\n",
      "| 8812783|  3.89840830449827|       14450|\n",
      "|  878368| 4.489452790534755|       12847|\n",
      "| 6171458| 4.329810407422348|       12395|\n",
      "|48765776| 3.594745027420807|       12217|\n",
      "|17763198| 4.361732428583396|       11937|\n",
      "|15732562|  2.78102821533668|       11554|\n",
      "|15524549|3.3899237182898707|       11274|\n",
      "|21825181| 4.326118067978533|       11180|\n",
      "|17225055| 4.208835341365462|       10956|\n",
      "|14863741| 4.279639773465788|       10771|\n",
      "| 4640799| 4.602253521126761|       10650|\n",
      "|14345371| 3.688744221152939|       10599|\n",
      "|15545385| 4.188663040366447|       10479|\n",
      "| 3212258| 3.447479197258933|       10215|\n",
      "|21861351| 4.224654494098658|        9913|\n",
      "+--------+------------------+------------+\n",
      "only showing top 20 rows\n",
      "\n"
     ]
    }
   ],
   "source": [
    "#Also we checked to see most rated books \n",
    "book_stats.orderBy(\"rating_count\", ascending=False).show()\n"
   ]
  },
  {
   "cell_type": "code",
   "execution_count": 20,
   "metadata": {},
   "outputs": [
    {
     "name": "stdout",
     "output_type": "stream",
     "text": [
      "+-------+-----+\n",
      "|user_id|count|\n",
      "+-------+-----+\n",
      "|   3782| 1425|\n",
      "|     92| 1067|\n",
      "|  24042|  993|\n",
      "|   5764|  965|\n",
      "|    394|  955|\n",
      "|  22100|  876|\n",
      "|  18616|  870|\n",
      "|    656|  869|\n",
      "|  33120|  866|\n",
      "|    885|  859|\n",
      "|   1194|  831|\n",
      "|   8057|  814|\n",
      "|  16848|  786|\n",
      "| 181209|  784|\n",
      "|  14382|  782|\n",
      "|   2719|  780|\n",
      "|  80663|  765|\n",
      "|  25161|  755|\n",
      "|  62005|  749|\n",
      "|  40542|  743|\n",
      "+-------+-----+\n",
      "only showing top 20 rows\n",
      "\n"
     ]
    }
   ],
   "source": [
    "#total rating per user\n",
    "ratings_df.groupBy(\"user_id\").count().orderBy(\"count\", ascending=False).show()\n"
   ]
  },
  {
   "cell_type": "code",
   "execution_count": 21,
   "metadata": {},
   "outputs": [
    {
     "name": "stdout",
     "output_type": "stream",
     "text": [
      "+----+------------------+\n",
      "|year|        avg_rating|\n",
      "+----+------------------+\n",
      "|   0|3.9113621625311445|\n",
      "|1912| 4.270769230769231|\n",
      "|1936|  4.47979797979798|\n",
      "|1950| 4.152073732718894|\n",
      "|1952| 4.027237354085603|\n",
      "|1957| 3.457510729613734|\n",
      "|1959|3.8757062146892656|\n",
      "|1961|  4.35754189944134|\n",
      "|1962| 4.331632653061225|\n",
      "|1963| 4.196145124716553|\n",
      "|1964| 4.142329020332717|\n",
      "|1969|3.7400881057268722|\n",
      "|1971| 4.176165803108808|\n",
      "|1972|3.8176007866273354|\n",
      "|1973|3.8639749117992945|\n",
      "|1974| 4.176165803108808|\n",
      "|1975| 4.277992277992278|\n",
      "|1976|3.4604604604604603|\n",
      "|1977|3.6954206602768904|\n",
      "|1978| 3.994034302759135|\n",
      "+----+------------------+\n",
      "only showing top 20 rows\n",
      "\n"
     ]
    }
   ],
   "source": [
    "# Check for Ratings correlated with metadata by joining Ratings Correlated with Metadata\n",
    "ratings_with_year = ratings_df.join(metadata_df.select(\"item_id\", \"year\"), on=\"item_id\")\n",
    "ratings_with_year.groupBy(\"year\").agg(avg(\"rating\").alias(\"avg_rating\")).orderBy(\"year\").show()\n"
   ]
  }
 ],
 "metadata": {
  "kernelspec": {
   "display_name": "mysparkenv",
   "language": "python",
   "name": "python3"
  },
  "language_info": {
   "codemirror_mode": {
    "name": "ipython",
    "version": 3
   },
   "file_extension": ".py",
   "mimetype": "text/x-python",
   "name": "python",
   "nbconvert_exporter": "python",
   "pygments_lexer": "ipython3",
   "version": "3.11.11"
  }
 },
 "nbformat": 4,
 "nbformat_minor": 2
}
