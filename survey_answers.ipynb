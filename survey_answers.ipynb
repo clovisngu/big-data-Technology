{
 "cells": [
  {
   "cell_type": "code",
   "execution_count": 15,
   "id": "dab9fdd7",
   "metadata": {},
   "outputs": [],
   "source": [
    "from pyspark.sql import SparkSession\n",
    "from pyspark.sql.functions import explode, col, split\n",
    "import matplotlib.pyplot as plt"
   ]
  },
  {
   "cell_type": "code",
   "execution_count": 16,
   "id": "228b16f3",
   "metadata": {},
   "outputs": [
    {
     "name": "stdout",
     "output_type": "stream",
     "text": [
      "+-------+-----+------+-------+\n",
      "|item_id|score|tag_id|user_id|\n",
      "+-------+-----+------+-------+\n",
      "| 604666|    5|   151|      2|\n",
      "|1222101|    5|   151|      2|\n",
      "|1272463|    5|   151|      2|\n",
      "|1540236|    5|   151|      2|\n",
      "|2157806|    1|   151|      2|\n",
      "+-------+-----+------+-------+\n",
      "only showing top 5 rows\n",
      "\n",
      "root\n",
      " |-- item_id: long (nullable = true)\n",
      " |-- score: long (nullable = true)\n",
      " |-- tag_id: long (nullable = true)\n",
      " |-- user_id: long (nullable = true)\n",
      "\n"
     ]
    }
   ],
   "source": [
    "from pyspark.sql.functions import explode, split, col\n",
    "\n",
    "# Create a Spark session with MongoDB support\n",
    "spark = SparkSession.builder \\\n",
    "    .appName(\"BookGenomeProject\") \\\n",
    "    .config(\"spark.mongodb.output.uri\", \"mongodb://127.0.0.1/book_genome.books\") \\\n",
    "    .getOrCreate()\n",
    "\n",
    "# Read JSON files into a DataFrame\n",
    "books_df = spark.read.json(r\"C:\\Users\\aleks\\Documents\\Maths\\Files\\book-genome\\book_dataset\\raw\\survey_answers.json\")\n",
    "\n",
    "# Show the first 5 rows of the dataset to get an overview\n",
    "books_df.show(5)\n",
    "\n",
    "# Print the schema to understand the structure\n",
    "books_df.printSchema()\n",
    "\n",
    "# Drop rows with missing 'item_id' or 'score' (since 'title', 'genres', 'tags' do not exist)\n",
    "books_df = books_df.dropna(subset=[\"item_id\", \"score\"])\n"
   ]
  },
  {
   "cell_type": "code",
   "execution_count": 17,
   "id": "0b510380",
   "metadata": {},
   "outputs": [
    {
     "name": "stdout",
     "output_type": "stream",
     "text": [
      "+--------+--------------------+\n",
      "| item_id|          avg(score)|\n",
      "+--------+--------------------+\n",
      "| 3194786|  1.0833333333333333|\n",
      "|10829530|-0.16279069767441862|\n",
      "|10867827|                2.15|\n",
      "|13855759|                 2.2|\n",
      "|21500681|  1.8571428571428572|\n",
      "|19187812|  2.3142857142857145|\n",
      "|10935127|  3.6666666666666665|\n",
      "|30157568|                 4.0|\n",
      "| 2325789|  2.3684210526315788|\n",
      "| 1294261|  1.4705882352941178|\n",
      "| 3462456|   2.050251256281407|\n",
      "| 1708725|  0.2876712328767123|\n",
      "|  266624|   2.084070796460177|\n",
      "|25807847|  1.4482758620689655|\n",
      "|13490463|  0.9361702127659575|\n",
      "| 1565818|   2.063106796116505|\n",
      "|  133406|                 5.0|\n",
      "|53941188|  1.2857142857142858|\n",
      "|52218770|0.012048192771084338|\n",
      "|27239641|  0.3564356435643564|\n",
      "+--------+--------------------+\n",
      "only showing top 20 rows\n",
      "\n"
     ]
    }
   ],
   "source": [
    "# Average rating for every book\n",
    "average_scores_df = books_df.groupBy(\"item_id\").agg({\"score\": \"avg\"})\n",
    "average_scores_df.show()"
   ]
  },
  {
   "cell_type": "code",
   "execution_count": 18,
   "id": "2741e5fb",
   "metadata": {},
   "outputs": [
    {
     "name": "stdout",
     "output_type": "stream",
     "text": [
      "+------+-----+\n",
      "|tag_id|count|\n",
      "+------+-----+\n",
      "|    26|  235|\n",
      "|    29|  288|\n",
      "|   474|   76|\n",
      "|   191|  123|\n",
      "|    65|  201|\n",
      "|   541|  184|\n",
      "|   418|   82|\n",
      "|   558|   42|\n",
      "|   222|  160|\n",
      "|   293|  175|\n",
      "|   270|   49|\n",
      "|   367|   56|\n",
      "|   243|  144|\n",
      "|   278|   80|\n",
      "|   442|   26|\n",
      "|   705|   25|\n",
      "|   720|   34|\n",
      "|    19|  377|\n",
      "|    54|   81|\n",
      "|   296|   56|\n",
      "+------+-----+\n",
      "only showing top 20 rows\n",
      "\n"
     ]
    }
   ],
   "source": [
    "# Amount of ratings for each tag\n",
    "tag_counts_df = books_df.groupBy(\"tag_id\").count()\n",
    "tag_counts_df.show()"
   ]
  },
  {
   "cell_type": "code",
   "execution_count": 22,
   "id": "5ba56859",
   "metadata": {},
   "outputs": [
    {
     "ename": "ModuleNotFoundError",
     "evalue": "No module named 'distutils'",
     "output_type": "error",
     "traceback": [
      "\u001b[1;31m---------------------------------------------------------------------------\u001b[0m",
      "\u001b[1;31mModuleNotFoundError\u001b[0m                       Traceback (most recent call last)",
      "Cell \u001b[1;32mIn[22], line 2\u001b[0m\n\u001b[0;32m      1\u001b[0m \u001b[38;5;66;03m# Example: Plotting the average score distribution\u001b[39;00m\n\u001b[1;32m----> 2\u001b[0m average_scores \u001b[38;5;241m=\u001b[39m \u001b[43maverage_scores_df\u001b[49m\u001b[38;5;241;43m.\u001b[39;49m\u001b[43mtoPandas\u001b[49m\u001b[43m(\u001b[49m\u001b[43m)\u001b[49m\n\u001b[0;32m      3\u001b[0m plt\u001b[38;5;241m.\u001b[39mhist(average_scores[\u001b[38;5;124m'\u001b[39m\u001b[38;5;124mavg(score)\u001b[39m\u001b[38;5;124m'\u001b[39m], bins\u001b[38;5;241m=\u001b[39m\u001b[38;5;241m50\u001b[39m)\n\u001b[0;32m      4\u001b[0m plt\u001b[38;5;241m.\u001b[39mxlabel(\u001b[38;5;124m'\u001b[39m\u001b[38;5;124mAverage Score\u001b[39m\u001b[38;5;124m'\u001b[39m)\n",
      "File \u001b[1;32mc:\\Users\\aleks\\AppData\\Local\\Programs\\Python\\Python312\\Lib\\site-packages\\pyspark\\sql\\pandas\\conversion.py:86\u001b[0m, in \u001b[0;36mPandasConversionMixin.toPandas\u001b[1;34m(self)\u001b[0m\n\u001b[0;32m     83\u001b[0m \u001b[38;5;28;01mfrom\u001b[39;00m \u001b[38;5;21;01mpyspark\u001b[39;00m\u001b[38;5;21;01m.\u001b[39;00m\u001b[38;5;21;01msql\u001b[39;00m\u001b[38;5;21;01m.\u001b[39;00m\u001b[38;5;21;01mpandas\u001b[39;00m\u001b[38;5;21;01m.\u001b[39;00m\u001b[38;5;21;01mtypes\u001b[39;00m \u001b[38;5;28;01mimport\u001b[39;00m _create_converter_to_pandas\n\u001b[0;32m     84\u001b[0m \u001b[38;5;28;01mfrom\u001b[39;00m \u001b[38;5;21;01mpyspark\u001b[39;00m\u001b[38;5;21;01m.\u001b[39;00m\u001b[38;5;21;01msql\u001b[39;00m\u001b[38;5;21;01m.\u001b[39;00m\u001b[38;5;21;01mpandas\u001b[39;00m\u001b[38;5;21;01m.\u001b[39;00m\u001b[38;5;21;01mutils\u001b[39;00m \u001b[38;5;28;01mimport\u001b[39;00m require_minimum_pandas_version\n\u001b[1;32m---> 86\u001b[0m \u001b[43mrequire_minimum_pandas_version\u001b[49m\u001b[43m(\u001b[49m\u001b[43m)\u001b[49m\n\u001b[0;32m     88\u001b[0m \u001b[38;5;28;01mimport\u001b[39;00m \u001b[38;5;21;01mpandas\u001b[39;00m \u001b[38;5;28;01mas\u001b[39;00m \u001b[38;5;21;01mpd\u001b[39;00m\n\u001b[0;32m     90\u001b[0m jconf \u001b[38;5;241m=\u001b[39m \u001b[38;5;28mself\u001b[39m\u001b[38;5;241m.\u001b[39msparkSession\u001b[38;5;241m.\u001b[39m_jconf\n",
      "File \u001b[1;32mc:\\Users\\aleks\\AppData\\Local\\Programs\\Python\\Python312\\Lib\\site-packages\\pyspark\\sql\\pandas\\utils.py:24\u001b[0m, in \u001b[0;36mrequire_minimum_pandas_version\u001b[1;34m()\u001b[0m\n\u001b[0;32m     21\u001b[0m \u001b[38;5;66;03m# TODO(HyukjinKwon): Relocate and deduplicate the version specification.\u001b[39;00m\n\u001b[0;32m     22\u001b[0m minimum_pandas_version \u001b[38;5;241m=\u001b[39m \u001b[38;5;124m\"\u001b[39m\u001b[38;5;124m1.0.5\u001b[39m\u001b[38;5;124m\"\u001b[39m\n\u001b[1;32m---> 24\u001b[0m \u001b[38;5;28;01mfrom\u001b[39;00m \u001b[38;5;21;01mdistutils\u001b[39;00m\u001b[38;5;21;01m.\u001b[39;00m\u001b[38;5;21;01mversion\u001b[39;00m \u001b[38;5;28;01mimport\u001b[39;00m LooseVersion\n\u001b[0;32m     26\u001b[0m \u001b[38;5;28;01mtry\u001b[39;00m:\n\u001b[0;32m     27\u001b[0m     \u001b[38;5;28;01mimport\u001b[39;00m \u001b[38;5;21;01mpandas\u001b[39;00m\n",
      "\u001b[1;31mModuleNotFoundError\u001b[0m: No module named 'distutils'"
     ]
    }
   ],
   "source": [
    "# Example: Plotting the average score distribution\n",
    "average_scores = average_scores_df.toPandas()\n",
    "plt.hist(average_scores['avg(score)'], bins=50)\n",
    "plt.xlabel('Average Score')\n",
    "plt.ylabel('Frequency')\n",
    "plt.title('Distribution of Average Scores')\n",
    "plt.show()"
   ]
  }
 ],
 "metadata": {
  "kernelspec": {
   "display_name": ".venv",
   "language": "python",
   "name": "python3"
  },
  "language_info": {
   "codemirror_mode": {
    "name": "ipython",
    "version": 3
   },
   "file_extension": ".py",
   "mimetype": "text/x-python",
   "name": "python",
   "nbconvert_exporter": "python",
   "pygments_lexer": "ipython3",
   "version": "3.12.0"
  }
 },
 "nbformat": 4,
 "nbformat_minor": 5
}
